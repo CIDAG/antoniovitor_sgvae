{
 "cells": [
  {
   "cell_type": "code",
   "execution_count": 2,
   "metadata": {},
   "outputs": [
    {
     "name": "stdout",
     "output_type": "stream",
     "text": [
      "The autoreload extension is already loaded. To reload it, use:\n",
      "  %reload_ext autoreload\n"
     ]
    }
   ],
   "source": [
    "%load_ext autoreload\n",
    "%autoreload 2\n",
    "\n",
    "import pandas as pd\n",
    "from pathlib import Path\n",
    "import numpy as np\n",
    "import matplotlib.pyplot as plt\n"
   ]
  },
  {
   "cell_type": "code",
   "execution_count": 3,
   "metadata": {},
   "outputs": [],
   "source": [
    "path = Path('../datasources/JoinedViscosityNew.csv')\n",
    "\n",
    "df = pd.read_csv(path)\n",
    "\n",
    "# # TEMP\n",
    "# df = pd.read_csv(base_path / 'errors.csv')\n",
    "# df = df[df['errors'].isnull()]\n",
    "\n",
    "# df.to_csv('data.csv')"
   ]
  },
  {
   "cell_type": "code",
   "execution_count": null,
   "metadata": {},
   "outputs": [],
   "source": [
    "# df['IE'].hist()\n",
    "# plt.show()\n",
    "# df['EA'].hist()\n",
    "# plt.show()"
   ]
  },
  {
   "cell_type": "code",
   "execution_count": null,
   "metadata": {},
   "outputs": [],
   "source": [
    "# processed_df = df.copy()\n",
    "\n",
    "# processed_df = processed_df[processed_df['IE'].between(-2, 10)]\n",
    "# processed_df = processed_df[processed_df['EA'].between(-2, 10)]\n",
    "# processed_df = processed_df[~processed_df['smiles'].str.contains('/')]\n",
    "\n",
    "\n",
    "# processed_df['IE'].hist(bins=30)\n",
    "# plt.show()\n",
    "# processed_df['EA'].hist(bins=30)\n",
    "# plt.show()\n",
    "\n",
    "# print(len(processed_df.index))\n",
    "# processed_df.to_csv('data.csv', index=False)"
   ]
  },
  {
   "cell_type": "code",
   "execution_count": 7,
   "metadata": {},
   "outputs": [
    {
     "name": "stdout",
     "output_type": "stream",
     "text": [
      "The autoreload extension is already loaded. To reload it, use:\n",
      "  %reload_ext autoreload\n",
      "C[NH+]1CN(C=C1)CCCCCCCC\\C=C\\CCCCCCCC  |  Grammar does not cover some of the input words: \"'\\\\\\\\', '\\\\\\\\'\".\n",
      "nan  |  'float' object has no attribute 'replace'\n",
      "[Li+]  |  Grammar does not cover some of the input words: \"'L', 'i'\".\n",
      "[K+]  |  Grammar does not cover some of the input words: \"'K'\".\n",
      "C[NH+]1CN(C=C1)CCCCCCCC\\C=C/C\\C=C/CCCCC  |  Grammar does not cover some of the input words: \"'\\\\\\\\', '/', '\\\\\\\\', '/'\".\n",
      "C(CCCCCCC\\C=C/CCCCCCCC)[N+]1=CN(C=C1)C  |  Grammar does not cover some of the input words: \"'\\\\\\\\', '/'\".\n",
      "C(CCCCCCC\\C=C/CCCCCCCC)(=O)[O-]  |  Grammar does not cover some of the input words: \"'\\\\\\\\', '/'\".\n",
      "C/C(/C(=O)[O-])=C\\C  |  Grammar does not cover some of the input words: \"'/', '/', '\\\\\\\\'\".\n",
      "C(CCCCCCC\\C=C/CCCCCCCC)(=O)[O-]  |  Grammar does not cover some of the input words: \"'\\\\\\\\', '/'\".\n",
      "C(CCCCCCC\\C=C/CCCCCCCC)(=O)[O-]  |  Grammar does not cover some of the input words: \"'\\\\\\\\', '/'\".\n",
      "[Re](=O)(=O)(=O)[O-]  |  Grammar does not cover some of the input words: \"'R', 'e'\".\n",
      "C(CCCCCCC\\C=C/CCCCCCCC)(=O)[O-]  |  Grammar does not cover some of the input words: \"'\\\\\\\\', '/'\".\n",
      "[Re](=O)(=O)(=O)[O-]  |  Grammar does not cover some of the input words: \"'R', 'e'\".\n"
     ]
    }
   ],
   "source": [
    "%load_ext autoreload\n",
    "%autoreload\n",
    "\n",
    "from grammar import old_grammar\n",
    "\n",
    "grammar = old_grammar\n",
    "\n",
    "df['error'] = np.nan\n",
    "\n",
    "for id, row in df.iterrows():\n",
    "    smi = row['Cation']\n",
    "    try:\n",
    "        grammar.parse_smiles_list([smi])\n",
    "    except Exception as e:\n",
    "        df.loc[id, 'error'] = e\n",
    "        print(smi, ' | ', e)\n",
    "\n",
    "\n",
    "for id, row in df.iterrows():\n",
    "    smi = row['Anion']\n",
    "    try:\n",
    "        grammar.parse_smiles_list([smi])\n",
    "    except Exception as e:\n",
    "        df.loc[id, 'error'] = e\n",
    "        print(smi, ' | ', e)\n",
    "\n",
    "df = df.sort_values(by='error')\n",
    "df.to_csv('errors.csv')\n",
    "\n",
    "df = df[df['error'].isna()]\n",
    "df.to_csv('viscosity.csv')"
   ]
  },
  {
   "cell_type": "code",
   "execution_count": 24,
   "metadata": {},
   "outputs": [],
   "source": [
    "# df[df['errors'].notnull()]\n",
    "errors_df = df.groupby('errors')['smiles'].nunique().reset_index()\n",
    "errors_df = errors_df.sort_values('smiles', ascending=False).reset_index()\n",
    "errors_df.to_csv('group_errors.csv')"
   ]
  },
  {
   "cell_type": "code",
   "execution_count": 56,
   "metadata": {},
   "outputs": [
    {
     "name": "stderr",
     "output_type": "stream",
     "text": [
      "/tmp/ipykernel_695/1057138089.py:2: SettingWithCopyWarning: \n",
      "A value is trying to be set on a copy of a slice from a DataFrame.\n",
      "Try using .loc[row_indexer,col_indexer] = value instead\n",
      "\n",
      "See the caveats in the documentation: https://pandas.pydata.org/pandas-docs/stable/user_guide/indexing.html#returning-a-view-versus-a-copy\n",
      "  unknown_df['errors'] = unknown_df['errors'].str.removeprefix('Grammar does not cover some of the input words: \"')\n",
      "/tmp/ipykernel_695/1057138089.py:3: SettingWithCopyWarning: \n",
      "A value is trying to be set on a copy of a slice from a DataFrame.\n",
      "Try using .loc[row_indexer,col_indexer] = value instead\n",
      "\n",
      "See the caveats in the documentation: https://pandas.pydata.org/pandas-docs/stable/user_guide/indexing.html#returning-a-view-versus-a-copy\n",
      "  unknown_df['errors'] = unknown_df['errors'].str.removesuffix('\".')\n",
      "/tmp/ipykernel_695/1057138089.py:4: SettingWithCopyWarning: \n",
      "A value is trying to be set on a copy of a slice from a DataFrame.\n",
      "Try using .loc[row_indexer,col_indexer] = value instead\n",
      "\n",
      "See the caveats in the documentation: https://pandas.pydata.org/pandas-docs/stable/user_guide/indexing.html#returning-a-view-versus-a-copy\n",
      "  unknown_df['errors'] = unknown_df['errors'].str.split(', ').map(lambda i: [char.removeprefix(\"'\").removesuffix(\"'\") for char in i])\n"
     ]
    },
    {
     "data": {
      "text/plain": [
       "{'.': 103,\n",
       " '/': 210,\n",
       " '5': 52,\n",
       " '6': 20,\n",
       " '7': 8,\n",
       " '8': 2,\n",
       " '@': 339,\n",
       " 'L': 4,\n",
       " 'Z': 14,\n",
       " '\\\\\\\\\\\\\\\\': 102,\n",
       " 'a': 13,\n",
       " 'e': 1,\n",
       " 'i': 4,\n",
       " 's': 40}"
      ]
     },
     "execution_count": 56,
     "metadata": {},
     "output_type": "execute_result"
    }
   ],
   "source": [
    "unknown_df = errors_df[errors_df['errors'].str.startswith('Grammar does not cover some of the input words: ')]\n",
    "unknown_df['errors'] = unknown_df['errors'].str.removeprefix('Grammar does not cover some of the input words: \"')\n",
    "unknown_df['errors'] = unknown_df['errors'].str.removesuffix('\".')\n",
    "unknown_df['errors'] = unknown_df['errors'].str.split(', ').map(lambda i: [char.removeprefix(\"'\").removesuffix(\"'\") for char in i])\n",
    "\n",
    "\n",
    "\n",
    "unknown_array = np.concatenate(unknown_df['errors'].to_list())\n",
    "unique, counts = np.unique(unknown_array, return_counts=True)\n",
    "\n",
    "dict(zip(unique, counts))"
   ]
  }
 ],
 "metadata": {
  "kernelspec": {
   "display_name": "venv",
   "language": "python",
   "name": "python3"
  },
  "language_info": {
   "codemirror_mode": {
    "name": "ipython",
    "version": 3
   },
   "file_extension": ".py",
   "mimetype": "text/x-python",
   "name": "python",
   "nbconvert_exporter": "python",
   "pygments_lexer": "ipython3",
   "version": "3.9.13"
  },
  "orig_nbformat": 4
 },
 "nbformat": 4,
 "nbformat_minor": 2
}
